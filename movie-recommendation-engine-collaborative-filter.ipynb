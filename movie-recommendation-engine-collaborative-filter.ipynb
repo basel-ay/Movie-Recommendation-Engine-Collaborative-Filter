{
 "cells": [
  {
   "cell_type": "markdown",
   "id": "rental-nigeria",
   "metadata": {
    "papermill": {
     "duration": 0.01757,
     "end_time": "2021-06-06T19:52:29.745935",
     "exception": false,
     "start_time": "2021-06-06T19:52:29.728365",
     "status": "completed"
    },
    "tags": []
   },
   "source": [
    "**What is a Recommendation System?**\n",
    "\n",
    "Simply put a Recommendation System is a filtration program whose prime goal is to predict the “rating” or “preference” of a user towards a domain-specific item or item. In our case, this domain-specific item is a movie, therefore the main focus of our recommendation system is to filter and predict only those movies which a user would prefer given some data about the user him or herself."
   ]
  },
  {
   "cell_type": "markdown",
   "id": "subjective-yesterday",
   "metadata": {
    "papermill": {
     "duration": 0.016571,
     "end_time": "2021-06-06T19:52:29.779825",
     "exception": false,
     "start_time": "2021-06-06T19:52:29.763254",
     "status": "completed"
    },
    "tags": []
   },
   "source": [
    "**What are the different filtration strategies?**"
   ]
  },
  {
   "cell_type": "markdown",
   "id": "apparent-orleans",
   "metadata": {
    "papermill": {
     "duration": 0.017373,
     "end_time": "2021-06-06T19:52:29.814528",
     "exception": false,
     "start_time": "2021-06-06T19:52:29.797155",
     "status": "completed"
    },
    "tags": []
   },
   "source": [
    "![](https://editor.analyticsvidhya.com/uploads/88506recommendation%20system.png)"
   ]
  },
  {
   "cell_type": "markdown",
   "id": "pleasant-wheat",
   "metadata": {
    "papermill": {
     "duration": 0.017367,
     "end_time": "2021-06-06T19:52:29.848487",
     "exception": false,
     "start_time": "2021-06-06T19:52:29.831120",
     "status": "completed"
    },
    "tags": []
   },
   "source": [
    "**Collaborative Filtering**\n",
    "\n",
    "This filtration strategy is based on the combination of the user’s behavior and comparing and contrasting that with other users’ behavior in the database. The history of all users plays an important role in this algorithm. The main difference between content-based filtering and collaborative filtering that in the latter, the interaction of all users with the items influences the recommendation algorithm while for content-based filtering only the concerned user’s data is taken into account.\n",
    "There are multiple ways to implement collaborative filtering but the main concept to be grasped is that in collaborative filtering multiple user’s data influences the outcome of the recommendation. and doesn’t depend on only one user’s data for modeling."
   ]
  },
  {
   "cell_type": "markdown",
   "id": "upper-basic",
   "metadata": {
    "papermill": {
     "duration": 0.016415,
     "end_time": "2021-06-06T19:52:29.882759",
     "exception": false,
     "start_time": "2021-06-06T19:52:29.866344",
     "status": "completed"
    },
    "tags": []
   },
   "source": [
    "**Let’s start coding up our own Movie recommendation system**"
   ]
  },
  {
   "cell_type": "code",
   "execution_count": 1,
   "id": "greenhouse-differential",
   "metadata": {
    "_cell_guid": "b1076dfc-b9ad-4769-8c92-a6c4dae69d19",
    "_uuid": "8f2839f25d086af736a60e9eeb907d3b93b6e0e5",
    "execution": {
     "iopub.execute_input": "2021-06-06T19:52:29.919628Z",
     "iopub.status.busy": "2021-06-06T19:52:29.918476Z",
     "iopub.status.idle": "2021-06-06T19:52:30.991793Z",
     "shell.execute_reply": "2021-06-06T19:52:30.992319Z",
     "shell.execute_reply.started": "2021-06-06T19:04:16.836520Z"
    },
    "papermill": {
     "duration": 1.093299,
     "end_time": "2021-06-06T19:52:30.992611",
     "exception": false,
     "start_time": "2021-06-06T19:52:29.899312",
     "status": "completed"
    },
    "tags": []
   },
   "outputs": [],
   "source": [
    "import os\n",
    "import numpy as np\n",
    "import pandas as pd\n",
    "import matplotlib.pyplot as plt\n",
    "plt.style.use('seaborn-bright')\n",
    "from sklearn.neighbors import NearestNeighbors\n",
    "from fuzzywuzzy import process\n",
    "%matplotlib inline "
   ]
  },
  {
   "cell_type": "code",
   "execution_count": 2,
   "id": "impaired-orlando",
   "metadata": {
    "execution": {
     "iopub.execute_input": "2021-06-06T19:52:31.029358Z",
     "iopub.status.busy": "2021-06-06T19:52:31.028745Z",
     "iopub.status.idle": "2021-06-06T19:52:31.157551Z",
     "shell.execute_reply": "2021-06-06T19:52:31.158010Z",
     "shell.execute_reply.started": "2021-06-06T19:04:17.170901Z"
    },
    "papermill": {
     "duration": 0.148458,
     "end_time": "2021-06-06T19:52:31.158177",
     "exception": false,
     "start_time": "2021-06-06T19:52:31.009719",
     "status": "completed"
    },
    "tags": []
   },
   "outputs": [
    {
     "data": {
      "text/html": [
       "<div>\n",
       "<style scoped>\n",
       "    .dataframe tbody tr th:only-of-type {\n",
       "        vertical-align: middle;\n",
       "    }\n",
       "\n",
       "    .dataframe tbody tr th {\n",
       "        vertical-align: top;\n",
       "    }\n",
       "\n",
       "    .dataframe thead th {\n",
       "        text-align: right;\n",
       "    }\n",
       "</style>\n",
       "<table border=\"1\" class=\"dataframe\">\n",
       "  <thead>\n",
       "    <tr style=\"text-align: right;\">\n",
       "      <th></th>\n",
       "      <th>userId</th>\n",
       "      <th>movieId</th>\n",
       "      <th>rating</th>\n",
       "    </tr>\n",
       "  </thead>\n",
       "  <tbody>\n",
       "    <tr>\n",
       "      <th>0</th>\n",
       "      <td>1</td>\n",
       "      <td>31</td>\n",
       "      <td>2.5</td>\n",
       "    </tr>\n",
       "    <tr>\n",
       "      <th>1</th>\n",
       "      <td>1</td>\n",
       "      <td>1029</td>\n",
       "      <td>3.0</td>\n",
       "    </tr>\n",
       "    <tr>\n",
       "      <th>2</th>\n",
       "      <td>1</td>\n",
       "      <td>1061</td>\n",
       "      <td>3.0</td>\n",
       "    </tr>\n",
       "    <tr>\n",
       "      <th>3</th>\n",
       "      <td>1</td>\n",
       "      <td>1129</td>\n",
       "      <td>2.0</td>\n",
       "    </tr>\n",
       "    <tr>\n",
       "      <th>4</th>\n",
       "      <td>1</td>\n",
       "      <td>1172</td>\n",
       "      <td>4.0</td>\n",
       "    </tr>\n",
       "  </tbody>\n",
       "</table>\n",
       "</div>"
      ],
      "text/plain": [
       "   userId  movieId  rating\n",
       "0       1       31     2.5\n",
       "1       1     1029     3.0\n",
       "2       1     1061     3.0\n",
       "3       1     1129     2.0\n",
       "4       1     1172     4.0"
      ]
     },
     "execution_count": 2,
     "metadata": {},
     "output_type": "execute_result"
    }
   ],
   "source": [
    "ratings_data = pd.read_csv(\"../input/the-movies-dataset/ratings_small.csv\")\n",
    "ratings_data = ratings_data.drop('timestamp', axis = 1)\n",
    "ratings_data.head()"
   ]
  },
  {
   "cell_type": "code",
   "execution_count": 3,
   "id": "allied-secretary",
   "metadata": {
    "execution": {
     "iopub.execute_input": "2021-06-06T19:52:31.196806Z",
     "iopub.status.busy": "2021-06-06T19:52:31.196165Z",
     "iopub.status.idle": "2021-06-06T19:52:32.397828Z",
     "shell.execute_reply": "2021-06-06T19:52:32.397160Z",
     "shell.execute_reply.started": "2021-06-06T19:04:17.225889Z"
    },
    "papermill": {
     "duration": 1.22167,
     "end_time": "2021-06-06T19:52:32.397982",
     "exception": false,
     "start_time": "2021-06-06T19:52:31.176312",
     "status": "completed"
    },
    "tags": []
   },
   "outputs": [
    {
     "name": "stderr",
     "output_type": "stream",
     "text": [
      "/opt/conda/lib/python3.7/site-packages/IPython/core/interactiveshell.py:3166: DtypeWarning: Columns (10) have mixed types.Specify dtype option on import or set low_memory=False.\n",
      "  interactivity=interactivity, compiler=compiler, result=result)\n"
     ]
    },
    {
     "data": {
      "text/html": [
       "<div>\n",
       "<style scoped>\n",
       "    .dataframe tbody tr th:only-of-type {\n",
       "        vertical-align: middle;\n",
       "    }\n",
       "\n",
       "    .dataframe tbody tr th {\n",
       "        vertical-align: top;\n",
       "    }\n",
       "\n",
       "    .dataframe thead th {\n",
       "        text-align: right;\n",
       "    }\n",
       "</style>\n",
       "<table border=\"1\" class=\"dataframe\">\n",
       "  <thead>\n",
       "    <tr style=\"text-align: right;\">\n",
       "      <th></th>\n",
       "      <th>title</th>\n",
       "      <th>genres</th>\n",
       "    </tr>\n",
       "  </thead>\n",
       "  <tbody>\n",
       "    <tr>\n",
       "      <th>0</th>\n",
       "      <td>Toy Story</td>\n",
       "      <td>[{'id': 16, 'name': 'Animation'}, {'id': 35, '...</td>\n",
       "    </tr>\n",
       "    <tr>\n",
       "      <th>1</th>\n",
       "      <td>Jumanji</td>\n",
       "      <td>[{'id': 12, 'name': 'Adventure'}, {'id': 14, '...</td>\n",
       "    </tr>\n",
       "    <tr>\n",
       "      <th>2</th>\n",
       "      <td>Grumpier Old Men</td>\n",
       "      <td>[{'id': 10749, 'name': 'Romance'}, {'id': 35, ...</td>\n",
       "    </tr>\n",
       "    <tr>\n",
       "      <th>3</th>\n",
       "      <td>Waiting to Exhale</td>\n",
       "      <td>[{'id': 35, 'name': 'Comedy'}, {'id': 18, 'nam...</td>\n",
       "    </tr>\n",
       "    <tr>\n",
       "      <th>4</th>\n",
       "      <td>Father of the Bride Part II</td>\n",
       "      <td>[{'id': 35, 'name': 'Comedy'}]</td>\n",
       "    </tr>\n",
       "  </tbody>\n",
       "</table>\n",
       "</div>"
      ],
      "text/plain": [
       "                         title  \\\n",
       "0                    Toy Story   \n",
       "1                      Jumanji   \n",
       "2             Grumpier Old Men   \n",
       "3            Waiting to Exhale   \n",
       "4  Father of the Bride Part II   \n",
       "\n",
       "                                              genres  \n",
       "0  [{'id': 16, 'name': 'Animation'}, {'id': 35, '...  \n",
       "1  [{'id': 12, 'name': 'Adventure'}, {'id': 14, '...  \n",
       "2  [{'id': 10749, 'name': 'Romance'}, {'id': 35, ...  \n",
       "3  [{'id': 35, 'name': 'Comedy'}, {'id': 18, 'nam...  \n",
       "4                     [{'id': 35, 'name': 'Comedy'}]  "
      ]
     },
     "execution_count": 3,
     "metadata": {},
     "output_type": "execute_result"
    }
   ],
   "source": [
    "movie_names = pd.read_csv(\"../input/the-movies-dataset/movies_metadata.csv\")\n",
    "movie_names = movie_names[['title', 'genres']]\n",
    "movie_names.head()"
   ]
  },
  {
   "cell_type": "code",
   "execution_count": 4,
   "id": "directed-needle",
   "metadata": {
    "execution": {
     "iopub.execute_input": "2021-06-06T19:52:32.451264Z",
     "iopub.status.busy": "2021-06-06T19:52:32.448246Z",
     "iopub.status.idle": "2021-06-06T19:52:32.462874Z",
     "shell.execute_reply": "2021-06-06T19:52:32.462071Z",
     "shell.execute_reply.started": "2021-06-06T19:04:17.825807Z"
    },
    "papermill": {
     "duration": 0.046667,
     "end_time": "2021-06-06T19:52:32.463041",
     "exception": false,
     "start_time": "2021-06-06T19:52:32.416374",
     "status": "completed"
    },
    "tags": []
   },
   "outputs": [
    {
     "name": "stdout",
     "output_type": "stream",
     "text": [
      "<class 'pandas.core.frame.DataFrame'>\n",
      "RangeIndex: 45466 entries, 0 to 45465\n",
      "Data columns (total 2 columns):\n",
      " #   Column  Non-Null Count  Dtype \n",
      "---  ------  --------------  ----- \n",
      " 0   title   45460 non-null  object\n",
      " 1   genres  45466 non-null  object\n",
      "dtypes: object(2)\n",
      "memory usage: 710.5+ KB\n"
     ]
    }
   ],
   "source": [
    "movie_names.info()"
   ]
  },
  {
   "cell_type": "code",
   "execution_count": 5,
   "id": "broke-lawrence",
   "metadata": {
    "execution": {
     "iopub.execute_input": "2021-06-06T19:52:32.506201Z",
     "iopub.status.busy": "2021-06-06T19:52:32.505340Z",
     "iopub.status.idle": "2021-06-06T19:52:32.521025Z",
     "shell.execute_reply": "2021-06-06T19:52:32.520532Z",
     "shell.execute_reply.started": "2021-06-06T19:04:17.841217Z"
    },
    "papermill": {
     "duration": 0.039214,
     "end_time": "2021-06-06T19:52:32.521154",
     "exception": false,
     "start_time": "2021-06-06T19:52:32.481940",
     "status": "completed"
    },
    "tags": []
   },
   "outputs": [
    {
     "data": {
      "text/html": [
       "<div>\n",
       "<style scoped>\n",
       "    .dataframe tbody tr th:only-of-type {\n",
       "        vertical-align: middle;\n",
       "    }\n",
       "\n",
       "    .dataframe tbody tr th {\n",
       "        vertical-align: top;\n",
       "    }\n",
       "\n",
       "    .dataframe thead th {\n",
       "        text-align: right;\n",
       "    }\n",
       "</style>\n",
       "<table border=\"1\" class=\"dataframe\">\n",
       "  <thead>\n",
       "    <tr style=\"text-align: right;\">\n",
       "      <th></th>\n",
       "      <th>userId</th>\n",
       "      <th>movieId</th>\n",
       "      <th>rating</th>\n",
       "      <th>title</th>\n",
       "      <th>genres</th>\n",
       "    </tr>\n",
       "  </thead>\n",
       "  <tbody>\n",
       "    <tr>\n",
       "      <th>0</th>\n",
       "      <td>1</td>\n",
       "      <td>31</td>\n",
       "      <td>2.5</td>\n",
       "      <td>Toy Story</td>\n",
       "      <td>[{'id': 16, 'name': 'Animation'}, {'id': 35, '...</td>\n",
       "    </tr>\n",
       "    <tr>\n",
       "      <th>1</th>\n",
       "      <td>1</td>\n",
       "      <td>1029</td>\n",
       "      <td>3.0</td>\n",
       "      <td>Jumanji</td>\n",
       "      <td>[{'id': 12, 'name': 'Adventure'}, {'id': 14, '...</td>\n",
       "    </tr>\n",
       "    <tr>\n",
       "      <th>2</th>\n",
       "      <td>1</td>\n",
       "      <td>1061</td>\n",
       "      <td>3.0</td>\n",
       "      <td>Grumpier Old Men</td>\n",
       "      <td>[{'id': 10749, 'name': 'Romance'}, {'id': 35, ...</td>\n",
       "    </tr>\n",
       "    <tr>\n",
       "      <th>3</th>\n",
       "      <td>1</td>\n",
       "      <td>1129</td>\n",
       "      <td>2.0</td>\n",
       "      <td>Waiting to Exhale</td>\n",
       "      <td>[{'id': 35, 'name': 'Comedy'}, {'id': 18, 'nam...</td>\n",
       "    </tr>\n",
       "    <tr>\n",
       "      <th>4</th>\n",
       "      <td>1</td>\n",
       "      <td>1172</td>\n",
       "      <td>4.0</td>\n",
       "      <td>Father of the Bride Part II</td>\n",
       "      <td>[{'id': 35, 'name': 'Comedy'}]</td>\n",
       "    </tr>\n",
       "  </tbody>\n",
       "</table>\n",
       "</div>"
      ],
      "text/plain": [
       "   userId  movieId  rating                        title  \\\n",
       "0       1       31     2.5                    Toy Story   \n",
       "1       1     1029     3.0                      Jumanji   \n",
       "2       1     1061     3.0             Grumpier Old Men   \n",
       "3       1     1129     2.0            Waiting to Exhale   \n",
       "4       1     1172     4.0  Father of the Bride Part II   \n",
       "\n",
       "                                              genres  \n",
       "0  [{'id': 16, 'name': 'Animation'}, {'id': 35, '...  \n",
       "1  [{'id': 12, 'name': 'Adventure'}, {'id': 14, '...  \n",
       "2  [{'id': 10749, 'name': 'Romance'}, {'id': 35, ...  \n",
       "3  [{'id': 35, 'name': 'Comedy'}, {'id': 18, 'nam...  \n",
       "4                     [{'id': 35, 'name': 'Comedy'}]  "
      ]
     },
     "execution_count": 5,
     "metadata": {},
     "output_type": "execute_result"
    }
   ],
   "source": [
    "# movie_data = ratings_data.merge(movie_names, on='movieId')\n",
    "movie_data = pd.concat([ratings_data, movie_names], axis=1)\n",
    "movie_data.head()"
   ]
  },
  {
   "cell_type": "code",
   "execution_count": 6,
   "id": "loose-timothy",
   "metadata": {
    "execution": {
     "iopub.execute_input": "2021-06-06T19:52:32.562896Z",
     "iopub.status.busy": "2021-06-06T19:52:32.561943Z",
     "iopub.status.idle": "2021-06-06T19:52:32.734856Z",
     "shell.execute_reply": "2021-06-06T19:52:32.734314Z",
     "shell.execute_reply.started": "2021-06-06T19:04:17.861019Z"
    },
    "papermill": {
     "duration": 0.194705,
     "end_time": "2021-06-06T19:52:32.735001",
     "exception": false,
     "start_time": "2021-06-06T19:52:32.540296",
     "status": "completed"
    },
    "tags": []
   },
   "outputs": [
    {
     "data": {
      "text/html": [
       "<div>\n",
       "<style scoped>\n",
       "    .dataframe tbody tr th:only-of-type {\n",
       "        vertical-align: middle;\n",
       "    }\n",
       "\n",
       "    .dataframe tbody tr th {\n",
       "        vertical-align: top;\n",
       "    }\n",
       "\n",
       "    .dataframe thead th {\n",
       "        text-align: right;\n",
       "    }\n",
       "</style>\n",
       "<table border=\"1\" class=\"dataframe\">\n",
       "  <thead>\n",
       "    <tr style=\"text-align: right;\">\n",
       "      <th></th>\n",
       "      <th>rating</th>\n",
       "      <th>total number of ratings</th>\n",
       "    </tr>\n",
       "    <tr>\n",
       "      <th>title</th>\n",
       "      <th></th>\n",
       "      <th></th>\n",
       "    </tr>\n",
       "  </thead>\n",
       "  <tbody>\n",
       "    <tr>\n",
       "      <th>!Women Art Revolution</th>\n",
       "      <td>4.5</td>\n",
       "      <td>1</td>\n",
       "    </tr>\n",
       "    <tr>\n",
       "      <th>#1 Cheerleader Camp</th>\n",
       "      <td>5.0</td>\n",
       "      <td>1</td>\n",
       "    </tr>\n",
       "    <tr>\n",
       "      <th>#Horror</th>\n",
       "      <td>2.5</td>\n",
       "      <td>1</td>\n",
       "    </tr>\n",
       "    <tr>\n",
       "      <th>#chicagoGirl</th>\n",
       "      <td>1.0</td>\n",
       "      <td>1</td>\n",
       "    </tr>\n",
       "    <tr>\n",
       "      <th>$1,000 on the Black</th>\n",
       "      <td>4.5</td>\n",
       "      <td>1</td>\n",
       "    </tr>\n",
       "  </tbody>\n",
       "</table>\n",
       "</div>"
      ],
      "text/plain": [
       "                       rating  total number of ratings\n",
       "title                                                 \n",
       "!Women Art Revolution     4.5                        1\n",
       "#1 Cheerleader Camp       5.0                        1\n",
       "#Horror                   2.5                        1\n",
       "#chicagoGirl              1.0                        1\n",
       "$1,000 on the Black       4.5                        1"
      ]
     },
     "execution_count": 6,
     "metadata": {},
     "output_type": "execute_result"
    }
   ],
   "source": [
    "trend = pd.DataFrame(movie_data.groupby('title')['rating'].mean())\n",
    "trend['total number of ratings'] = pd.DataFrame(movie_data.groupby('title')['rating'].count()) \n",
    "\n",
    "trend.head()"
   ]
  },
  {
   "cell_type": "code",
   "execution_count": 7,
   "id": "virtual-special",
   "metadata": {
    "execution": {
     "iopub.execute_input": "2021-06-06T19:52:32.795873Z",
     "iopub.status.busy": "2021-06-06T19:52:32.795221Z",
     "iopub.status.idle": "2021-06-06T19:53:49.445136Z",
     "shell.execute_reply": "2021-06-06T19:53:49.445622Z",
     "shell.execute_reply.started": "2021-06-06T19:04:17.975087Z"
    },
    "papermill": {
     "duration": 76.690798,
     "end_time": "2021-06-06T19:53:49.445801",
     "exception": false,
     "start_time": "2021-06-06T19:52:32.755003",
     "status": "completed"
    },
    "tags": []
   },
   "outputs": [
    {
     "data": {
      "image/png": "[encoded data removed]",
      "text/plain": [
       "<Figure size 720x288 with 1 Axes>"
      ]
     },
     "metadata": {
      "needs_background": "light"
     },
     "output_type": "display_data"
    }
   ],
   "source": [
    "#plot rounded-up ratings with number of movies\n",
    "plt.figure(figsize =(10, 4))\n",
    "ax=plt.barh(trend['rating'].round(),trend['total number of ratings'],color='b')\n",
    "plt.show()"
   ]
  },
  {
   "cell_type": "code",
   "execution_count": 8,
   "id": "incoming-candle",
   "metadata": {
    "execution": {
     "iopub.execute_input": "2021-06-06T19:53:49.556281Z",
     "iopub.status.busy": "2021-06-06T19:53:49.555107Z",
     "iopub.status.idle": "2021-06-06T19:53:49.572733Z",
     "shell.execute_reply": "2021-06-06T19:53:49.572046Z",
     "shell.execute_reply.started": "2021-06-06T19:05:19.543378Z"
    },
    "papermill": {
     "duration": 0.107014,
     "end_time": "2021-06-06T19:53:49.572874",
     "exception": false,
     "start_time": "2021-06-06T19:53:49.465860",
     "status": "completed"
    },
    "tags": []
   },
   "outputs": [
    {
     "data": {
      "text/plain": [
       "title\n",
       "Rapt                          5.0\n",
       "My Sister's Kids in Africa    5.0\n",
       "Nasu: Summer in Andalusia     5.0\n",
       "Borderline Normal             5.0\n",
       "Native Land                   5.0\n",
       "Natsamrat                     5.0\n",
       "Natural Born Killers          5.0\n",
       "Natural City                  5.0\n",
       "Naturally Native              5.0\n",
       "Nature Calls                  5.0\n",
       "Name: rating, dtype: float64"
      ]
     },
     "execution_count": 8,
     "metadata": {},
     "output_type": "execute_result"
    }
   ],
   "source": [
    "# Calculate mean rating of all movies and check the popular high rating movies\n",
    "movie_data.groupby('title')['rating'].mean().sort_values(ascending=False).head(10)"
   ]
  },
  {
   "cell_type": "markdown",
   "id": "golden-contrary",
   "metadata": {
    "papermill": {
     "duration": 0.028465,
     "end_time": "2021-06-06T19:53:49.621538",
     "exception": false,
     "start_time": "2021-06-06T19:53:49.593073",
     "status": "completed"
    },
    "tags": []
   },
   "source": [
    "**Pivoting**"
   ]
  },
  {
   "cell_type": "markdown",
   "id": "rough-algebra",
   "metadata": {
    "papermill": {
     "duration": 0.019875,
     "end_time": "2021-06-06T19:53:49.661746",
     "exception": false,
     "start_time": "2021-06-06T19:53:49.641871",
     "status": "completed"
    },
    "tags": []
   },
   "source": [
    "Pivot Table : A pivot table is a table of statistics that summarizes the data of a more extensive table. This summary might include sums, averages, or other statistics, which the pivot table groups together in a meaningful way. Pivot tables are a technique in data processing."
   ]
  },
  {
   "cell_type": "markdown",
   "id": "protecting-python",
   "metadata": {
    "papermill": {
     "duration": 0.019553,
     "end_time": "2021-06-06T19:53:49.701347",
     "exception": false,
     "start_time": "2021-06-06T19:53:49.681794",
     "status": "completed"
    },
    "tags": []
   },
   "source": [
    "![](https://pandas.pydata.org/pandas-docs/stable/_images/reshaping_pivot.png)"
   ]
  },
  {
   "cell_type": "code",
   "execution_count": 9,
   "id": "apart-southeast",
   "metadata": {
    "execution": {
     "iopub.execute_input": "2021-06-06T19:53:49.749647Z",
     "iopub.status.busy": "2021-06-06T19:53:49.748689Z",
     "iopub.status.idle": "2021-06-06T19:53:49.908874Z",
     "shell.execute_reply": "2021-06-06T19:53:49.908243Z",
     "shell.execute_reply.started": "2021-06-06T19:05:19.607204Z"
    },
    "papermill": {
     "duration": 0.187228,
     "end_time": "2021-06-06T19:53:49.909002",
     "exception": false,
     "start_time": "2021-06-06T19:53:49.721774",
     "status": "completed"
    },
    "tags": []
   },
   "outputs": [
    {
     "data": {
      "text/html": [
       "<div>\n",
       "<style scoped>\n",
       "    .dataframe tbody tr th:only-of-type {\n",
       "        vertical-align: middle;\n",
       "    }\n",
       "\n",
       "    .dataframe tbody tr th {\n",
       "        vertical-align: top;\n",
       "    }\n",
       "\n",
       "    .dataframe thead th {\n",
       "        text-align: right;\n",
       "    }\n",
       "</style>\n",
       "<table border=\"1\" class=\"dataframe\">\n",
       "  <thead>\n",
       "    <tr style=\"text-align: right;\">\n",
       "      <th>movieId</th>\n",
       "      <th>1</th>\n",
       "      <th>2</th>\n",
       "      <th>3</th>\n",
       "      <th>4</th>\n",
       "      <th>5</th>\n",
       "      <th>6</th>\n",
       "      <th>7</th>\n",
       "      <th>8</th>\n",
       "      <th>9</th>\n",
       "      <th>10</th>\n",
       "      <th>...</th>\n",
       "      <th>161084</th>\n",
       "      <th>161155</th>\n",
       "      <th>161594</th>\n",
       "      <th>161830</th>\n",
       "      <th>161918</th>\n",
       "      <th>161944</th>\n",
       "      <th>162376</th>\n",
       "      <th>162542</th>\n",
       "      <th>162672</th>\n",
       "      <th>163949</th>\n",
       "    </tr>\n",
       "    <tr>\n",
       "      <th>userId</th>\n",
       "      <th></th>\n",
       "      <th></th>\n",
       "      <th></th>\n",
       "      <th></th>\n",
       "      <th></th>\n",
       "      <th></th>\n",
       "      <th></th>\n",
       "      <th></th>\n",
       "      <th></th>\n",
       "      <th></th>\n",
       "      <th></th>\n",
       "      <th></th>\n",
       "      <th></th>\n",
       "      <th></th>\n",
       "      <th></th>\n",
       "      <th></th>\n",
       "      <th></th>\n",
       "      <th></th>\n",
       "      <th></th>\n",
       "      <th></th>\n",
       "      <th></th>\n",
       "    </tr>\n",
       "  </thead>\n",
       "  <tbody>\n",
       "    <tr>\n",
       "      <th>1</th>\n",
       "      <td>0.0</td>\n",
       "      <td>0.0</td>\n",
       "      <td>0.0</td>\n",
       "      <td>0.0</td>\n",
       "      <td>0.0</td>\n",
       "      <td>0.0</td>\n",
       "      <td>0.0</td>\n",
       "      <td>0.0</td>\n",
       "      <td>0.0</td>\n",
       "      <td>0.0</td>\n",
       "      <td>...</td>\n",
       "      <td>0.0</td>\n",
       "      <td>0.0</td>\n",
       "      <td>0.0</td>\n",
       "      <td>0.0</td>\n",
       "      <td>0.0</td>\n",
       "      <td>0.0</td>\n",
       "      <td>0.0</td>\n",
       "      <td>0.0</td>\n",
       "      <td>0.0</td>\n",
       "      <td>0.0</td>\n",
       "    </tr>\n",
       "    <tr>\n",
       "      <th>2</th>\n",
       "      <td>0.0</td>\n",
       "      <td>0.0</td>\n",
       "      <td>0.0</td>\n",
       "      <td>0.0</td>\n",
       "      <td>0.0</td>\n",
       "      <td>0.0</td>\n",
       "      <td>0.0</td>\n",
       "      <td>0.0</td>\n",
       "      <td>0.0</td>\n",
       "      <td>4.0</td>\n",
       "      <td>...</td>\n",
       "      <td>0.0</td>\n",
       "      <td>0.0</td>\n",
       "      <td>0.0</td>\n",
       "      <td>0.0</td>\n",
       "      <td>0.0</td>\n",
       "      <td>0.0</td>\n",
       "      <td>0.0</td>\n",
       "      <td>0.0</td>\n",
       "      <td>0.0</td>\n",
       "      <td>0.0</td>\n",
       "    </tr>\n",
       "    <tr>\n",
       "      <th>3</th>\n",
       "      <td>0.0</td>\n",
       "      <td>0.0</td>\n",
       "      <td>0.0</td>\n",
       "      <td>0.0</td>\n",
       "      <td>0.0</td>\n",
       "      <td>0.0</td>\n",
       "      <td>0.0</td>\n",
       "      <td>0.0</td>\n",
       "      <td>0.0</td>\n",
       "      <td>0.0</td>\n",
       "      <td>...</td>\n",
       "      <td>0.0</td>\n",
       "      <td>0.0</td>\n",
       "      <td>0.0</td>\n",
       "      <td>0.0</td>\n",
       "      <td>0.0</td>\n",
       "      <td>0.0</td>\n",
       "      <td>0.0</td>\n",
       "      <td>0.0</td>\n",
       "      <td>0.0</td>\n",
       "      <td>0.0</td>\n",
       "    </tr>\n",
       "    <tr>\n",
       "      <th>4</th>\n",
       "      <td>0.0</td>\n",
       "      <td>0.0</td>\n",
       "      <td>0.0</td>\n",
       "      <td>0.0</td>\n",
       "      <td>0.0</td>\n",
       "      <td>0.0</td>\n",
       "      <td>0.0</td>\n",
       "      <td>0.0</td>\n",
       "      <td>0.0</td>\n",
       "      <td>4.0</td>\n",
       "      <td>...</td>\n",
       "      <td>0.0</td>\n",
       "      <td>0.0</td>\n",
       "      <td>0.0</td>\n",
       "      <td>0.0</td>\n",
       "      <td>0.0</td>\n",
       "      <td>0.0</td>\n",
       "      <td>0.0</td>\n",
       "      <td>0.0</td>\n",
       "      <td>0.0</td>\n",
       "      <td>0.0</td>\n",
       "    </tr>\n",
       "    <tr>\n",
       "      <th>5</th>\n",
       "      <td>0.0</td>\n",
       "      <td>0.0</td>\n",
       "      <td>4.0</td>\n",
       "      <td>0.0</td>\n",
       "      <td>0.0</td>\n",
       "      <td>0.0</td>\n",
       "      <td>0.0</td>\n",
       "      <td>0.0</td>\n",
       "      <td>0.0</td>\n",
       "      <td>0.0</td>\n",
       "      <td>...</td>\n",
       "      <td>0.0</td>\n",
       "      <td>0.0</td>\n",
       "      <td>0.0</td>\n",
       "      <td>0.0</td>\n",
       "      <td>0.0</td>\n",
       "      <td>0.0</td>\n",
       "      <td>0.0</td>\n",
       "      <td>0.0</td>\n",
       "      <td>0.0</td>\n",
       "      <td>0.0</td>\n",
       "    </tr>\n",
       "    <tr>\n",
       "      <th>...</th>\n",
       "      <td>...</td>\n",
       "      <td>...</td>\n",
       "      <td>...</td>\n",
       "      <td>...</td>\n",
       "      <td>...</td>\n",
       "      <td>...</td>\n",
       "      <td>...</td>\n",
       "      <td>...</td>\n",
       "      <td>...</td>\n",
       "      <td>...</td>\n",
       "      <td>...</td>\n",
       "      <td>...</td>\n",
       "      <td>...</td>\n",
       "      <td>...</td>\n",
       "      <td>...</td>\n",
       "      <td>...</td>\n",
       "      <td>...</td>\n",
       "      <td>...</td>\n",
       "      <td>...</td>\n",
       "      <td>...</td>\n",
       "      <td>...</td>\n",
       "    </tr>\n",
       "    <tr>\n",
       "      <th>667</th>\n",
       "      <td>0.0</td>\n",
       "      <td>0.0</td>\n",
       "      <td>0.0</td>\n",
       "      <td>0.0</td>\n",
       "      <td>0.0</td>\n",
       "      <td>4.0</td>\n",
       "      <td>0.0</td>\n",
       "      <td>0.0</td>\n",
       "      <td>0.0</td>\n",
       "      <td>0.0</td>\n",
       "      <td>...</td>\n",
       "      <td>0.0</td>\n",
       "      <td>0.0</td>\n",
       "      <td>0.0</td>\n",
       "      <td>0.0</td>\n",
       "      <td>0.0</td>\n",
       "      <td>0.0</td>\n",
       "      <td>0.0</td>\n",
       "      <td>0.0</td>\n",
       "      <td>0.0</td>\n",
       "      <td>0.0</td>\n",
       "    </tr>\n",
       "    <tr>\n",
       "      <th>668</th>\n",
       "      <td>0.0</td>\n",
       "      <td>0.0</td>\n",
       "      <td>0.0</td>\n",
       "      <td>0.0</td>\n",
       "      <td>0.0</td>\n",
       "      <td>0.0</td>\n",
       "      <td>0.0</td>\n",
       "      <td>0.0</td>\n",
       "      <td>0.0</td>\n",
       "      <td>0.0</td>\n",
       "      <td>...</td>\n",
       "      <td>0.0</td>\n",
       "      <td>0.0</td>\n",
       "      <td>0.0</td>\n",
       "      <td>0.0</td>\n",
       "      <td>0.0</td>\n",
       "      <td>0.0</td>\n",
       "      <td>0.0</td>\n",
       "      <td>0.0</td>\n",
       "      <td>0.0</td>\n",
       "      <td>0.0</td>\n",
       "    </tr>\n",
       "    <tr>\n",
       "      <th>669</th>\n",
       "      <td>0.0</td>\n",
       "      <td>0.0</td>\n",
       "      <td>0.0</td>\n",
       "      <td>0.0</td>\n",
       "      <td>0.0</td>\n",
       "      <td>0.0</td>\n",
       "      <td>0.0</td>\n",
       "      <td>0.0</td>\n",
       "      <td>0.0</td>\n",
       "      <td>0.0</td>\n",
       "      <td>...</td>\n",
       "      <td>0.0</td>\n",
       "      <td>0.0</td>\n",
       "      <td>0.0</td>\n",
       "      <td>0.0</td>\n",
       "      <td>0.0</td>\n",
       "      <td>0.0</td>\n",
       "      <td>0.0</td>\n",
       "      <td>0.0</td>\n",
       "      <td>0.0</td>\n",
       "      <td>0.0</td>\n",
       "    </tr>\n",
       "    <tr>\n",
       "      <th>670</th>\n",
       "      <td>4.0</td>\n",
       "      <td>0.0</td>\n",
       "      <td>0.0</td>\n",
       "      <td>0.0</td>\n",
       "      <td>0.0</td>\n",
       "      <td>0.0</td>\n",
       "      <td>0.0</td>\n",
       "      <td>0.0</td>\n",
       "      <td>0.0</td>\n",
       "      <td>0.0</td>\n",
       "      <td>...</td>\n",
       "      <td>0.0</td>\n",
       "      <td>0.0</td>\n",
       "      <td>0.0</td>\n",
       "      <td>0.0</td>\n",
       "      <td>0.0</td>\n",
       "      <td>0.0</td>\n",
       "      <td>0.0</td>\n",
       "      <td>0.0</td>\n",
       "      <td>0.0</td>\n",
       "      <td>0.0</td>\n",
       "    </tr>\n",
       "    <tr>\n",
       "      <th>671</th>\n",
       "      <td>5.0</td>\n",
       "      <td>0.0</td>\n",
       "      <td>0.0</td>\n",
       "      <td>0.0</td>\n",
       "      <td>0.0</td>\n",
       "      <td>0.0</td>\n",
       "      <td>0.0</td>\n",
       "      <td>0.0</td>\n",
       "      <td>0.0</td>\n",
       "      <td>0.0</td>\n",
       "      <td>...</td>\n",
       "      <td>0.0</td>\n",
       "      <td>0.0</td>\n",
       "      <td>0.0</td>\n",
       "      <td>0.0</td>\n",
       "      <td>0.0</td>\n",
       "      <td>0.0</td>\n",
       "      <td>0.0</td>\n",
       "      <td>0.0</td>\n",
       "      <td>0.0</td>\n",
       "      <td>0.0</td>\n",
       "    </tr>\n",
       "  </tbody>\n",
       "</table>\n",
       "<p>671 rows × 9066 columns</p>\n",
       "</div>"
      ],
      "text/plain": [
       "movieId  1       2       3       4       5       6       7       8       \\\n",
       "userId                                                                    \n",
       "1           0.0     0.0     0.0     0.0     0.0     0.0     0.0     0.0   \n",
       "2           0.0     0.0     0.0     0.0     0.0     0.0     0.0     0.0   \n",
       "3           0.0     0.0     0.0     0.0     0.0     0.0     0.0     0.0   \n",
       "4           0.0     0.0     0.0     0.0     0.0     0.0     0.0     0.0   \n",
       "5           0.0     0.0     4.0     0.0     0.0     0.0     0.0     0.0   \n",
       "...         ...     ...     ...     ...     ...     ...     ...     ...   \n",
       "667         0.0     0.0     0.0     0.0     0.0     4.0     0.0     0.0   \n",
       "668         0.0     0.0     0.0     0.0     0.0     0.0     0.0     0.0   \n",
       "669         0.0     0.0     0.0     0.0     0.0     0.0     0.0     0.0   \n",
       "670         4.0     0.0     0.0     0.0     0.0     0.0     0.0     0.0   \n",
       "671         5.0     0.0     0.0     0.0     0.0     0.0     0.0     0.0   \n",
       "\n",
       "movieId  9       10      ...  161084  161155  161594  161830  161918  161944  \\\n",
       "userId                   ...                                                   \n",
       "1           0.0     0.0  ...     0.0     0.0     0.0     0.0     0.0     0.0   \n",
       "2           0.0     4.0  ...     0.0     0.0     0.0     0.0     0.0     0.0   \n",
       "3           0.0     0.0  ...     0.0     0.0     0.0     0.0     0.0     0.0   \n",
       "4           0.0     4.0  ...     0.0     0.0     0.0     0.0     0.0     0.0   \n",
       "5           0.0     0.0  ...     0.0     0.0     0.0     0.0     0.0     0.0   \n",
       "...         ...     ...  ...     ...     ...     ...     ...     ...     ...   \n",
       "667         0.0     0.0  ...     0.0     0.0     0.0     0.0     0.0     0.0   \n",
       "668         0.0     0.0  ...     0.0     0.0     0.0     0.0     0.0     0.0   \n",
       "669         0.0     0.0  ...     0.0     0.0     0.0     0.0     0.0     0.0   \n",
       "670         0.0     0.0  ...     0.0     0.0     0.0     0.0     0.0     0.0   \n",
       "671         0.0     0.0  ...     0.0     0.0     0.0     0.0     0.0     0.0   \n",
       "\n",
       "movieId  162376  162542  162672  163949  \n",
       "userId                                   \n",
       "1           0.0     0.0     0.0     0.0  \n",
       "2           0.0     0.0     0.0     0.0  \n",
       "3           0.0     0.0     0.0     0.0  \n",
       "4           0.0     0.0     0.0     0.0  \n",
       "5           0.0     0.0     0.0     0.0  \n",
       "...         ...     ...     ...     ...  \n",
       "667         0.0     0.0     0.0     0.0  \n",
       "668         0.0     0.0     0.0     0.0  \n",
       "669         0.0     0.0     0.0     0.0  \n",
       "670         0.0     0.0     0.0     0.0  \n",
       "671         0.0     0.0     0.0     0.0  \n",
       "\n",
       "[671 rows x 9066 columns]"
      ]
     },
     "execution_count": 9,
     "metadata": {},
     "output_type": "execute_result"
    }
   ],
   "source": [
    "movies_users = ratings_data.pivot(index=['userId'], columns=['movieId'], values='rating').fillna(0)\n",
    "movies_users"
   ]
  },
  {
   "cell_type": "markdown",
   "id": "architectural-failure",
   "metadata": {
    "papermill": {
     "duration": 0.020777,
     "end_time": "2021-06-06T19:53:49.951093",
     "exception": false,
     "start_time": "2021-06-06T19:53:49.930316",
     "status": "completed"
    },
    "tags": []
   },
   "source": [
    "**Removing sparsity**"
   ]
  },
  {
   "cell_type": "markdown",
   "id": "double-insert",
   "metadata": {
    "papermill": {
     "duration": 0.020718,
     "end_time": "2021-06-06T19:53:49.992359",
     "exception": false,
     "start_time": "2021-06-06T19:53:49.971641",
     "status": "completed"
    },
    "tags": []
   },
   "source": [
    "Our final_dataset has dimensions of 671 × 9066 where most of the values are sparse. We are using only a small dataset but for the original large dataset of movie lens which has more than 100000 features, our system may run out of computational resources when that is feed to the model. To reduce the sparsity we use the csr_matrix function from the scipy library."
   ]
  },
  {
   "cell_type": "code",
   "execution_count": 10,
   "id": "union-illustration",
   "metadata": {
    "execution": {
     "iopub.execute_input": "2021-06-06T19:53:50.038640Z",
     "iopub.status.busy": "2021-06-06T19:53:50.037761Z",
     "iopub.status.idle": "2021-06-06T19:53:50.156790Z",
     "shell.execute_reply": "2021-06-06T19:53:50.156181Z",
     "shell.execute_reply.started": "2021-06-06T19:05:19.744742Z"
    },
    "papermill": {
     "duration": 0.143967,
     "end_time": "2021-06-06T19:53:50.156921",
     "exception": false,
     "start_time": "2021-06-06T19:53:50.012954",
     "status": "completed"
    },
    "tags": []
   },
   "outputs": [
    {
     "data": {
      "text/plain": [
       "<671x9066 sparse matrix of type '<class 'numpy.float64'>'\n",
       "\twith 100004 stored elements in Compressed Sparse Row format>"
      ]
     },
     "execution_count": 10,
     "metadata": {},
     "output_type": "execute_result"
    }
   ],
   "source": [
    "from scipy.sparse import csr_matrix\n",
    "mat_movies_users=csr_matrix(movies_users.values)\n",
    "mat_movies_users"
   ]
  },
  {
   "cell_type": "code",
   "execution_count": 11,
   "id": "growing-beach",
   "metadata": {
    "execution": {
     "iopub.execute_input": "2021-06-06T19:53:50.204694Z",
     "iopub.status.busy": "2021-06-06T19:53:50.203683Z",
     "iopub.status.idle": "2021-06-06T19:53:50.205988Z",
     "shell.execute_reply": "2021-06-06T19:53:50.206397Z",
     "shell.execute_reply.started": "2021-06-06T19:05:19.866478Z"
    },
    "papermill": {
     "duration": 0.027951,
     "end_time": "2021-06-06T19:53:50.206568",
     "exception": false,
     "start_time": "2021-06-06T19:53:50.178617",
     "status": "completed"
    },
    "tags": []
   },
   "outputs": [],
   "source": [
    "# Cosine Similarity\n",
    "model_knn= NearestNeighbors(metric='cosine', algorithm='brute', n_neighbors=20, n_jobs=-1)"
   ]
  },
  {
   "cell_type": "code",
   "execution_count": 12,
   "id": "italic-seller",
   "metadata": {
    "execution": {
     "iopub.execute_input": "2021-06-06T19:53:50.254453Z",
     "iopub.status.busy": "2021-06-06T19:53:50.253806Z",
     "iopub.status.idle": "2021-06-06T19:53:50.260523Z",
     "shell.execute_reply": "2021-06-06T19:53:50.259903Z",
     "shell.execute_reply.started": "2021-06-06T19:05:19.872152Z"
    },
    "papermill": {
     "duration": 0.032714,
     "end_time": "2021-06-06T19:53:50.260660",
     "exception": false,
     "start_time": "2021-06-06T19:53:50.227946",
     "status": "completed"
    },
    "tags": []
   },
   "outputs": [
    {
     "data": {
      "text/plain": [
       "NearestNeighbors(algorithm='brute', metric='cosine', n_jobs=-1, n_neighbors=20)"
      ]
     },
     "execution_count": 12,
     "metadata": {},
     "output_type": "execute_result"
    }
   ],
   "source": [
    "model_knn.fit(mat_movies_users)"
   ]
  },
  {
   "cell_type": "code",
   "execution_count": 13,
   "id": "fossil-currency",
   "metadata": {
    "execution": {
     "iopub.execute_input": "2021-06-06T19:53:50.312216Z",
     "iopub.status.busy": "2021-06-06T19:53:50.311564Z",
     "iopub.status.idle": "2021-06-06T19:53:50.314189Z",
     "shell.execute_reply": "2021-06-06T19:53:50.313594Z",
     "shell.execute_reply.started": "2021-06-06T19:51:04.670953Z"
    },
    "papermill": {
     "duration": 0.032052,
     "end_time": "2021-06-06T19:53:50.314327",
     "exception": false,
     "start_time": "2021-06-06T19:53:50.282275",
     "status": "completed"
    },
    "tags": []
   },
   "outputs": [],
   "source": [
    "def Recommender(movie_name, data, model, n_recommendations):\n",
    "    model.fit(data)\n",
    "    movie_index = process.extractOne(movie_name, movie_names['title'])[2]\n",
    "    print('Movie Selected: ',movie_names['title'][movie_index], ', Index: ', movie_index)\n",
    "    print('Searching for recommendations.....')\n",
    "    distances, indices = model.kneighbors(data[movie_index], n_neighbors=n_recommendations)\n",
    "    recc_movie_indices = sorted(list(zip(indices.squeeze().tolist(),distances.squeeze().tolist())),key=lambda x: x[1])[:0:-1]\n",
    "    recommend_frame = []\n",
    "    for val in recc_movie_indices:\n",
    "#         print(movie_names['title'][val[0]])\n",
    "        recommend_frame.append({'Title':movie_names['title'][val[0]],'Distance':val[1]})\n",
    "    \n",
    "    df = pd.DataFrame(recommend_frame, index = range(1,n_recommendations))\n",
    "     \n",
    "    return df"
   ]
  },
  {
   "cell_type": "code",
   "execution_count": 14,
   "id": "automatic-participant",
   "metadata": {
    "execution": {
     "iopub.execute_input": "2021-06-06T19:53:50.367853Z",
     "iopub.status.busy": "2021-06-06T19:53:50.362090Z",
     "iopub.status.idle": "2021-06-06T19:53:53.163175Z",
     "shell.execute_reply": "2021-06-06T19:53:53.163651Z",
     "shell.execute_reply.started": "2021-06-06T19:51:06.757990Z"
    },
    "papermill": {
     "duration": 2.82747,
     "end_time": "2021-06-06T19:53:53.163813",
     "exception": false,
     "start_time": "2021-06-06T19:53:50.336343",
     "status": "completed"
    },
    "tags": []
   },
   "outputs": [
    {
     "name": "stdout",
     "output_type": "stream",
     "text": [
      "Movie Selected:  Jumanji , Index:  1\n",
      "Searching for recommendations.....\n"
     ]
    },
    {
     "data": {
      "text/html": [
       "<div>\n",
       "<style scoped>\n",
       "    .dataframe tbody tr th:only-of-type {\n",
       "        vertical-align: middle;\n",
       "    }\n",
       "\n",
       "    .dataframe tbody tr th {\n",
       "        vertical-align: top;\n",
       "    }\n",
       "\n",
       "    .dataframe thead th {\n",
       "        text-align: right;\n",
       "    }\n",
       "</style>\n",
       "<table border=\"1\" class=\"dataframe\">\n",
       "  <thead>\n",
       "    <tr style=\"text-align: right;\">\n",
       "      <th></th>\n",
       "      <th>Title</th>\n",
       "      <th>Distance</th>\n",
       "    </tr>\n",
       "  </thead>\n",
       "  <tbody>\n",
       "    <tr>\n",
       "      <th>1</th>\n",
       "      <td>Mr. Wonderful</td>\n",
       "      <td>0.523668</td>\n",
       "    </tr>\n",
       "    <tr>\n",
       "      <th>2</th>\n",
       "      <td>The Silences of the Palace</td>\n",
       "      <td>0.523338</td>\n",
       "    </tr>\n",
       "    <tr>\n",
       "      <th>3</th>\n",
       "      <td>Tarantella</td>\n",
       "      <td>0.522694</td>\n",
       "    </tr>\n",
       "    <tr>\n",
       "      <th>4</th>\n",
       "      <td>The Usual Suspects</td>\n",
       "      <td>0.519348</td>\n",
       "    </tr>\n",
       "    <tr>\n",
       "      <th>5</th>\n",
       "      <td>Mi Vida Loca</td>\n",
       "      <td>0.516944</td>\n",
       "    </tr>\n",
       "    <tr>\n",
       "      <th>6</th>\n",
       "      <td>Antonia's Line</td>\n",
       "      <td>0.505929</td>\n",
       "    </tr>\n",
       "    <tr>\n",
       "      <th>7</th>\n",
       "      <td>The Man without a Face</td>\n",
       "      <td>0.473188</td>\n",
       "    </tr>\n",
       "    <tr>\n",
       "      <th>8</th>\n",
       "      <td>Boomerang</td>\n",
       "      <td>0.470424</td>\n",
       "    </tr>\n",
       "    <tr>\n",
       "      <th>9</th>\n",
       "      <td>Sleepless in Seattle</td>\n",
       "      <td>0.466811</td>\n",
       "    </tr>\n",
       "    <tr>\n",
       "      <th>10</th>\n",
       "      <td>Pinocchio</td>\n",
       "      <td>0.462066</td>\n",
       "    </tr>\n",
       "    <tr>\n",
       "      <th>11</th>\n",
       "      <td>The Amazing Panda Adventure</td>\n",
       "      <td>0.461603</td>\n",
       "    </tr>\n",
       "    <tr>\n",
       "      <th>12</th>\n",
       "      <td>Nell</td>\n",
       "      <td>0.452125</td>\n",
       "    </tr>\n",
       "    <tr>\n",
       "      <th>13</th>\n",
       "      <td>Billy's Holiday</td>\n",
       "      <td>0.448570</td>\n",
       "    </tr>\n",
       "    <tr>\n",
       "      <th>14</th>\n",
       "      <td>Desperado</td>\n",
       "      <td>0.441926</td>\n",
       "    </tr>\n",
       "    <tr>\n",
       "      <th>15</th>\n",
       "      <td>Colonel Chabert</td>\n",
       "      <td>0.434887</td>\n",
       "    </tr>\n",
       "    <tr>\n",
       "      <th>16</th>\n",
       "      <td>Brother Minister: The Assassination of Malcolm X</td>\n",
       "      <td>0.428748</td>\n",
       "    </tr>\n",
       "    <tr>\n",
       "      <th>17</th>\n",
       "      <td>Batman Forever</td>\n",
       "      <td>0.426903</td>\n",
       "    </tr>\n",
       "    <tr>\n",
       "      <th>18</th>\n",
       "      <td>Red Rock West</td>\n",
       "      <td>0.419258</td>\n",
       "    </tr>\n",
       "    <tr>\n",
       "      <th>19</th>\n",
       "      <td>Muriel's Wedding</td>\n",
       "      <td>0.418472</td>\n",
       "    </tr>\n",
       "  </tbody>\n",
       "</table>\n",
       "</div>"
      ],
      "text/plain": [
       "                                               Title  Distance\n",
       "1                                      Mr. Wonderful  0.523668\n",
       "2                         The Silences of the Palace  0.523338\n",
       "3                                         Tarantella  0.522694\n",
       "4                                 The Usual Suspects  0.519348\n",
       "5                                       Mi Vida Loca  0.516944\n",
       "6                                     Antonia's Line  0.505929\n",
       "7                             The Man without a Face  0.473188\n",
       "8                                          Boomerang  0.470424\n",
       "9                               Sleepless in Seattle  0.466811\n",
       "10                                         Pinocchio  0.462066\n",
       "11                       The Amazing Panda Adventure  0.461603\n",
       "12                                              Nell  0.452125\n",
       "13                                   Billy's Holiday  0.448570\n",
       "14                                         Desperado  0.441926\n",
       "15                                   Colonel Chabert  0.434887\n",
       "16  Brother Minister: The Assassination of Malcolm X  0.428748\n",
       "17                                    Batman Forever  0.426903\n",
       "18                                     Red Rock West  0.419258\n",
       "19                                  Muriel's Wedding  0.418472"
      ]
     },
     "execution_count": 14,
     "metadata": {},
     "output_type": "execute_result"
    }
   ],
   "source": [
    "n_recommendations = 20\n",
    "Recommender('Jumanji', mat_movies_users, model_knn, n_recommendations)"
   ]
  },
  {
   "cell_type": "markdown",
   "id": "universal-cathedral",
   "metadata": {
    "papermill": {
     "duration": 0.02123,
     "end_time": "2021-06-06T19:53:53.206858",
     "exception": false,
     "start_time": "2021-06-06T19:53:53.185628",
     "status": "completed"
    },
    "tags": []
   },
   "source": [
    "**Summary**"
   ]
  },
  {
   "cell_type": "markdown",
   "id": "human-publicity",
   "metadata": {
    "papermill": {
     "duration": 0.022126,
     "end_time": "2021-06-06T19:53:53.251738",
     "exception": false,
     "start_time": "2021-06-06T19:53:53.229612",
     "status": "completed"
    },
    "tags": []
   },
   "source": [
    "The above recommendation system uses item to item collaborative approach. This system is the simpleset implementation of recommendation system and need a lot of tuning.Also the system's first recommendations will always be the popular movies which are voted by nore people so a change can also be made there."
   ]
  }
 ],
 "metadata": {
  "kernelspec": {
   "display_name": "Python 3",
   "language": "python",
   "name": "python3"
  },
  "language_info": {
   "codemirror_mode": {
    "name": "ipython",
    "version": 3
   },
   "file_extension": ".py",
   "mimetype": "text/x-python",
   "name": "python",
   "nbconvert_exporter": "python",
   "pygments_lexer": "ipython3",
   "version": "3.7.10"
  },
  "papermill": {
   "default_parameters": {},
   "duration": 93.761441,
   "end_time": "2021-06-06T19:53:56.060534",
   "environment_variables": {},
   "exception": null,
   "input_path": "__notebook__.ipynb",
   "output_path": "__notebook__.ipynb",
   "parameters": {},
   "start_time": "2021-06-06T19:52:22.299093",
   "version": "2.3.3"
  }
 },
 "nbformat": 4,
 "nbformat_minor": 5
}
